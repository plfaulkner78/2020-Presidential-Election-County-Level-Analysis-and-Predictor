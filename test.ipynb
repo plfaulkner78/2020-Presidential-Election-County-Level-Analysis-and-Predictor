{
 "cells": [
  {
   "cell_type": "code",
   "execution_count": 1,
   "metadata": {},
   "outputs": [],
   "source": [
    "import pandas as pd"
   ]
  },
  {
   "cell_type": "code",
   "execution_count": 2,
   "metadata": {
    "scrolled": true
   },
   "outputs": [],
   "source": [
    "# To load data:\n",
    "master_data = pd.read_csv('Data/master_data.csv')"
   ]
  },
  {
   "cell_type": "markdown",
   "metadata": {},
   "source": [
    "Pad the countyFIPS column and set it to be master_data's index."
   ]
  },
  {
   "cell_type": "code",
   "execution_count": 3,
   "metadata": {},
   "outputs": [],
   "source": [
    "def pad_fips(code):\n",
    "    \"\"\"\n",
    "    Function prepends zeros to the beginning of countyFIPS \n",
    "    codes whose lengths are less than five characters long.\n",
    "    Returns the code as a string.\n",
    "    \"\"\"\n",
    "    code_str = str(code)\n",
    "    while len(code_str) < 5:\n",
    "        code_str = '0' + code_str\n",
    "    return code_str"
   ]
  },
  {
   "cell_type": "code",
   "execution_count": 4,
   "metadata": {},
   "outputs": [],
   "source": [
    "master_data['countyFIPS'] = master_data['countyFIPS'].apply(lambda x: pad_fips(x))"
   ]
  },
  {
   "cell_type": "code",
   "execution_count": 5,
   "metadata": {},
   "outputs": [],
   "source": [
    "master_data.set_index('countyFIPS', inplace=True)"
   ]
  },
  {
   "cell_type": "code",
   "execution_count": 6,
   "metadata": {},
   "outputs": [],
   "source": [
    "# Create the filtered dataset for later use by removing the Alaska data that does not have a binary encoding\n",
    "filtered_master_data = master_data[master_data[\"Biden_or_Trump\"] != -1]"
   ]
  },
  {
   "cell_type": "markdown",
   "metadata": {},
   "source": [
    "### First create an interactive map with the collected information on each county"
   ]
  },
  {
   "cell_type": "code",
   "execution_count": 7,
   "metadata": {},
   "outputs": [],
   "source": [
    "# The Choropleth plotly package has the old FIPS code for Oglala Lakota County, South Dakota. So just for the\n",
    "# map, I will change the FIPS code so the county appears.\n",
    "\n",
    "as_list = [str(code) for code in master_data.index.tolist()]\n",
    "shannon_idx = as_list.index('46102')\n",
    "\n",
    "as_list[shannon_idx] = '46113'\n",
    "master_data.index = as_list"
   ]
  },
  {
   "cell_type": "code",
   "execution_count": 8,
   "metadata": {},
   "outputs": [],
   "source": [
    "def format_vote_pct(pct):\n",
    "    \"\"\"\n",
    "    Function below takes a vote share as a decimal\n",
    "    and returns it formatted as a string with '%'\n",
    "    appended. If the input is NaN, the function will\n",
    "    return 'N/A'.\n",
    "    \"\"\"\n",
    "    if pd.isnull(pct):\n",
    "        return 'N/A'\n",
    "    else:\n",
    "        return str(round(pct * 100, 2)) + '%' "
   ]
  },
  {
   "cell_type": "code",
   "execution_count": 9,
   "metadata": {},
   "outputs": [],
   "source": [
    "from urllib.request import urlopen\n",
    "import json\n",
    "with urlopen('https://raw.githubusercontent.com/plotly/datasets/master/geojson-counties-fips.json') as response:\n",
    "    counties = json.load(response)\n",
    "    \n",
    "import plotly.express as px"
   ]
  },
  {
   "cell_type": "code",
   "execution_count": 10,
   "metadata": {},
   "outputs": [],
   "source": [
    "labels_map = {-1: 'N/A', 0: 'Trump', 1: 'Biden'}"
   ]
  },
  {
   "cell_type": "code",
   "execution_count": null,
   "metadata": {},
   "outputs": [],
   "source": []
  }
 ],
 "metadata": {
  "kernelspec": {
   "display_name": "Python 3",
   "language": "python",
   "name": "python3"
  },
  "language_info": {
   "codemirror_mode": {
    "name": "ipython",
    "version": 3
   },
   "file_extension": ".py",
   "mimetype": "text/x-python",
   "name": "python",
   "nbconvert_exporter": "python",
   "pygments_lexer": "ipython3",
   "version": "3.8.2"
  }
 },
 "nbformat": 4,
 "nbformat_minor": 4
}
